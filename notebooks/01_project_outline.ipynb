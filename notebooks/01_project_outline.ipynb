{
 "cells": [
  {
   "cell_type": "markdown",
   "id": "eafecb9d-0a6c-409c-9783-381258721d29",
   "metadata": {},
   "source": [
    "# Project: Eddy response to atmospheric variability\n",
    "\n",
    "## Diagnosing currents from satellite data\n",
    "\n",
    "We can use satellite altimeter data which estimates the relief of the sea surface to derive surface currents via the geostrophic balance. See Stewart (2021), Chapter 10 (<https://github.com/introocean/introocean-en>) for a brief introduction.\n",
    "\n",
    "Here's a notebook which shows access to the altimetry data hosted on Google cloud storage: http://gallery.pangeo.io/repos/pangeo-gallery/physical-oceanography/01_sea-surface-height.html (But as the platform providing access is under crypto mining attack, we'll provide the data elsewhere.)\n",
    "\n",
    "## Eddy Kinetic Energy (EKE)\n",
    "\n",
    "We use Reynolds averaging for separating kinetic enery into a contribution from time-averaged currents $\\overline{\\vec{u}}$ and a contribution from high-frequent variability $\\vec{u}'$:\n",
    "$$\\vec{u}(t,y,x) = \\overline{\\vec{u}}(y,x) + \\vec{u}'(t,y,x)$$\n",
    "\n",
    "Using the following rules above rules for Reynolds averaging\n",
    "$$\\overline{\\overline{()}}=\\overline{()} \\qquad \\overline{()'}=0$$\n",
    "we find that kinetic energy, $KE$, (dropping mass here...) separates into mean kinetic energy, $MKE$, and eddy kinetic energy, $EKE$:\n",
    "$$2\\,KE=\\vec{u}^2=\\overline{\\vec{u}}^2+\\vec{u}'^2\\equiv 2\\,MKE + 2\\,EKE$$\n",
    "\n",
    "## Westerly winds / Southern Annular Mode\n",
    "\n",
    "Following Gong & Wang (2009) https://doi.org/10.1029/1999GL900003, we can diagnose the southern annular mode index (SAM) from the difference of zonal-mean sea-level pressure (SLP) between 40S and 65S.\n",
    "\n",
    "SLP data: https://downloads.psl.noaa.gov/Datasets/ncep.reanalysis.derived/surface/pres.sfc.mon.mean.nc\n",
    "\n",
    "## El-Nino Southern Oscillation\n",
    "\n",
    "Following https://climatedataguide.ucar.edu/climate-data/nino-sst-indices-nino-12-3-34-4-oni-and-t and using the NINO3.4 box, we can diagnose the El-Nino-Southern-Oscillation Index (ENSO) from sea-surface temperature (SST).\n",
    "\n",
    "SST data: https://downloads.psl.noaa.gov/Datasets/noaa.ersst.v5/sst.mnmean.nc\n",
    "\n",
    "\n",
    "## Research Question\n",
    "\n",
    "Meredith and Hogg (2006) (<https://doi.org/10.1029/2006GL026499>) found that the stregth of the mesoscale eddy field (as measured by Southern-Ocean EKE) in the Southern Ocean appears to respond to increased wind forcing (as measured by the SAM index) with a lag of approximately two years (see their Figure 1).\n",
    "Later, Morrow et al. (2010) (<https://doi.org/10.1029/2009JC005894>) found that the increase in EKE may be a reaction positive SAM anomalies combined with negative ENSO anomalies, i.e. La Nina conditions.\n",
    "\n",
    "Here, let's try and reproduce Figure 2 (and in particular panels b) and c) thereof) of Morrow et al. (2010)."
   ]
  }
 ],
 "metadata": {
  "kernelspec": {
   "display_name": "Python 3 (ipykernel)",
   "language": "python",
   "name": "python3"
  },
  "language_info": {
   "codemirror_mode": {
    "name": "ipython",
    "version": 3
   },
   "file_extension": ".py",
   "mimetype": "text/x-python",
   "name": "python",
   "nbconvert_exporter": "python",
   "pygments_lexer": "ipython3",
   "version": "3.9.7"
  }
 },
 "nbformat": 4,
 "nbformat_minor": 5
}
